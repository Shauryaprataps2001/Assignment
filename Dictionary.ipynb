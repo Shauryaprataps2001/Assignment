{
 "cells": [
  {
   "cell_type": "code",
   "execution_count": 1,
   "id": "848abf68-7e59-4757-8433-ab9d358c227b",
   "metadata": {},
   "outputs": [],
   "source": [
    "d = {}"
   ]
  },
  {
   "cell_type": "code",
   "execution_count": 2,
   "id": "792c7851-c5ef-4a32-8fac-a5e740731d29",
   "metadata": {},
   "outputs": [
    {
     "data": {
      "text/plain": [
       "dict"
      ]
     },
     "execution_count": 2,
     "metadata": {},
     "output_type": "execute_result"
    }
   ],
   "source": [
    "type(d)"
   ]
  },
  {
   "cell_type": "code",
   "execution_count": 3,
   "id": "49efaeba-996d-4492-b45f-ebcdb08e4cb7",
   "metadata": {},
   "outputs": [],
   "source": [
    "d1 = {'key' :\"sudh\"}"
   ]
  },
  {
   "cell_type": "code",
   "execution_count": 4,
   "id": "0e04e79c-ad55-47e2-83d2-5ab8edcc3b69",
   "metadata": {},
   "outputs": [
    {
     "data": {
      "text/plain": [
       "{'key': 'sudh'}"
      ]
     },
     "execution_count": 4,
     "metadata": {},
     "output_type": "execute_result"
    }
   ],
   "source": [
    "d1"
   ]
  },
  {
   "cell_type": "code",
   "execution_count": 5,
   "id": "7c18bde2-8932-49f6-81b4-4d342c2d09db",
   "metadata": {},
   "outputs": [],
   "source": [
    "d2  ={'name' :'shaurya'}"
   ]
  },
  {
   "cell_type": "code",
   "execution_count": 6,
   "id": "db5a94fa-5a0c-4839-a295-cce29e84da24",
   "metadata": {},
   "outputs": [
    {
     "data": {
      "text/plain": [
       "{'name': 'shaurya'}"
      ]
     },
     "execution_count": 6,
     "metadata": {},
     "output_type": "execute_result"
    }
   ],
   "source": [
    "d2"
   ]
  },
  {
   "cell_type": "code",
   "execution_count": 11,
   "id": "68cc8ca4-9cd3-405c-aade-d7e9908a8148",
   "metadata": {},
   "outputs": [],
   "source": [
    "d3 = {'name' :'shaurya' , 'email' : \"shauryaprataps02@gmail.com\" , 'phone number':\"8317076100\"}"
   ]
  },
  {
   "cell_type": "code",
   "execution_count": 10,
   "id": "c5474185-b83b-4b0a-9df2-126f95ef814a",
   "metadata": {},
   "outputs": [
    {
     "data": {
      "text/plain": [
       "{'name': 'shaurya',\n",
       " 'email': 'shauryaprataps02@gmail.com',\n",
       " 'phone number': '8317076100'}"
      ]
     },
     "execution_count": 10,
     "metadata": {},
     "output_type": "execute_result"
    }
   ],
   "source": [
    "d3"
   ]
  },
  {
   "cell_type": "code",
   "execution_count": 12,
   "id": "cb541873-8434-4d16-95c6-07d1d4c79fbe",
   "metadata": {},
   "outputs": [],
   "source": [
    "d4 = {24 : 'twenty four','@gmail': \"email\", True : \"boolean\"}"
   ]
  },
  {
   "cell_type": "code",
   "execution_count": 13,
   "id": "398d6d0d-b10e-430b-bce0-912d2252598c",
   "metadata": {},
   "outputs": [],
   "source": [
    "##yahan par strings numeric value aur boolean value as a key allowed hai"
   ]
  },
  {
   "cell_type": "code",
   "execution_count": 17,
   "id": "f1b0d155-02f3-4fef-b002-988162a284ba",
   "metadata": {},
   "outputs": [
    {
     "data": {
      "text/plain": [
       "'twenty four'"
      ]
     },
     "execution_count": 17,
     "metadata": {},
     "output_type": "execute_result"
    }
   ],
   "source": [
    "d4[24] ## yahan par jaise hum words ko khojte hain dictionary mein waise hi yahan par dictiobnary hai humari d4 aur 234(key) word hai "
   ]
  },
  {
   "cell_type": "code",
   "execution_count": 18,
   "id": "9adad444-bb33-4b76-ac28-33213ccfc86a",
   "metadata": {},
   "outputs": [
    {
     "data": {
      "text/plain": [
       "'boolean'"
      ]
     },
     "execution_count": 18,
     "metadata": {},
     "output_type": "execute_result"
    }
   ],
   "source": [
    "d4[True]"
   ]
  },
  {
   "cell_type": "code",
   "execution_count": 19,
   "id": "9e33033b-b06f-49af-8218-f7c6668d5cf9",
   "metadata": {},
   "outputs": [
    {
     "data": {
      "text/plain": [
       "'boolean'"
      ]
     },
     "execution_count": 19,
     "metadata": {},
     "output_type": "execute_result"
    }
   ],
   "source": [
    "d4[1]"
   ]
  },
  {
   "cell_type": "code",
   "execution_count": 21,
   "id": "204262d7-8370-460d-bbce-35556f6978fb",
   "metadata": {},
   "outputs": [],
   "source": [
    "d5 = {'name':'shaurya', 'profesion': 'coder',\"name\":\"sudhanshu\"}"
   ]
  },
  {
   "cell_type": "code",
   "execution_count": 23,
   "id": "aa875f47-79be-43cf-b7d6-a5e86e5be601",
   "metadata": {},
   "outputs": [
    {
     "data": {
      "text/plain": [
       "'sudhanshu'"
      ]
     },
     "execution_count": 23,
     "metadata": {},
     "output_type": "execute_result"
    }
   ],
   "source": [
    "d5['name'] ## yahan par agar unique nhi hai to yaha par new value se override ho jayega"
   ]
  },
  {
   "cell_type": "code",
   "execution_count": 25,
   "id": "eb73f4ea-cb1d-41b1-8aa3-c4b675e2c7b9",
   "metadata": {},
   "outputs": [],
   "source": [
    "d6 = {\"company\": 'pwskills', 'courses': ['webdev','dsa+system design','dsplus machine learning'] }"
   ]
  },
  {
   "cell_type": "code",
   "execution_count": 26,
   "id": "6fdf5d35-9018-483c-81dd-0740af5c51c1",
   "metadata": {},
   "outputs": [
    {
     "data": {
      "text/plain": [
       "{'name': 'sudhanshu', 'profesion': 'coder'}"
      ]
     },
     "execution_count": 26,
     "metadata": {},
     "output_type": "execute_result"
    }
   ],
   "source": [
    "d5"
   ]
  },
  {
   "cell_type": "code",
   "execution_count": 27,
   "id": "95d0b1e3-3d57-4e77-872f-d1270b863c26",
   "metadata": {},
   "outputs": [
    {
     "data": {
      "text/plain": [
       "{'company': 'pwskills',\n",
       " 'courses': ['webdev', 'dsa+system design', 'dsplus machine learning']}"
      ]
     },
     "execution_count": 27,
     "metadata": {},
     "output_type": "execute_result"
    }
   ],
   "source": [
    "d6"
   ]
  },
  {
   "cell_type": "code",
   "execution_count": 33,
   "id": "df00895d-df28-4718-820d-776459a829e9",
   "metadata": {},
   "outputs": [],
   "source": [
    "l=d6['courses'][2]"
   ]
  },
  {
   "cell_type": "code",
   "execution_count": 34,
   "id": "a1104f7a-f401-4e4f-9d14-65e485bbac0c",
   "metadata": {},
   "outputs": [
    {
     "data": {
      "text/plain": [
       "'dsplus machine learning'"
      ]
     },
     "execution_count": 34,
     "metadata": {},
     "output_type": "execute_result"
    }
   ],
   "source": [
    "l"
   ]
  },
  {
   "cell_type": "code",
   "execution_count": 39,
   "id": "c1967b86-7c65-41b1-93e3-f4949d8ffb34",
   "metadata": {},
   "outputs": [],
   "source": [
    "d7 = {'number':[2,3,4,56,69] ,\"assignment\":(1,2,3,4,5,6), \"launchdate\" : {\"23/5/2023\"} }"
   ]
  },
  {
   "cell_type": "code",
   "execution_count": 40,
   "id": "a0f6a64d-b1e4-4d6d-9741-47b43360d392",
   "metadata": {},
   "outputs": [
    {
     "data": {
      "text/plain": [
       "{'23/5/2023'}"
      ]
     },
     "execution_count": 40,
     "metadata": {},
     "output_type": "execute_result"
    }
   ],
   "source": [
    "d7['launchdate']"
   ]
  },
  {
   "cell_type": "code",
   "execution_count": 42,
   "id": "dea80693-9d18-4ca2-8e7b-f878ad752547",
   "metadata": {},
   "outputs": [],
   "source": [
    "d8  = {\"class timing\":{\"webdev\":\"8pm\",'dsa withsystem design ': '9pm','data science':'10pm'}}"
   ]
  },
  {
   "cell_type": "code",
   "execution_count": 43,
   "id": "f6f2793e-2c1c-49cc-bcf6-211cb3ada338",
   "metadata": {},
   "outputs": [
    {
     "data": {
      "text/plain": [
       "'10pm'"
      ]
     },
     "execution_count": 43,
     "metadata": {},
     "output_type": "execute_result"
    }
   ],
   "source": [
    "d8['class timing']['data science' ]  ## yahan par dictionary ke andar dictionary bhi ho sakta hai"
   ]
  },
  {
   "cell_type": "code",
   "execution_count": 44,
   "id": "3c05c22a-987a-42e8-9adc-5e89abd7bcba",
   "metadata": {},
   "outputs": [
    {
     "data": {
      "text/plain": [
       "'8pm'"
      ]
     },
     "execution_count": 44,
     "metadata": {},
     "output_type": "execute_result"
    }
   ],
   "source": [
    "d8['class timing']['webdev']"
   ]
  },
  {
   "cell_type": "code",
   "execution_count": 45,
   "id": "62407423-6288-4c65-89be-6c22fa1c35ac",
   "metadata": {},
   "outputs": [],
   "source": [
    "## For adding another key word\n",
    "d8['mentor'] = ['sudhanshu','kriss','anurag']"
   ]
  },
  {
   "cell_type": "code",
   "execution_count": 46,
   "id": "4a2a5dfa-9a1d-42b7-8739-93dc7fcbbe55",
   "metadata": {},
   "outputs": [
    {
     "data": {
      "text/plain": [
       "{'class timing': {'webdev': '8pm',\n",
       "  'dsa withsystem design ': '9pm',\n",
       "  'data science': '10pm'},\n",
       " 'mentor': ['sudhanshu', 'kriss', 'anurag']}"
      ]
     },
     "execution_count": 46,
     "metadata": {},
     "output_type": "execute_result"
    }
   ],
   "source": [
    "d8"
   ]
  },
  {
   "cell_type": "code",
   "execution_count": 47,
   "id": "50cbcdd1-c3ea-45de-bd30-f5bdc3a10b39",
   "metadata": {},
   "outputs": [],
   "source": [
    "d8['college'] = \"Maharaja agrasen institute of tecnology\""
   ]
  },
  {
   "cell_type": "code",
   "execution_count": 48,
   "id": "ed0c91a6-382a-4e5c-881d-84e12d2fa53f",
   "metadata": {},
   "outputs": [
    {
     "data": {
      "text/plain": [
       "{'class timing': {'webdev': '8pm',\n",
       "  'dsa withsystem design ': '9pm',\n",
       "  'data science': '10pm'},\n",
       " 'mentor': ['sudhanshu', 'kriss', 'anurag'],\n",
       " 'college': 'Maharaja agrasen institute of tecnology'}"
      ]
     },
     "execution_count": 48,
     "metadata": {},
     "output_type": "execute_result"
    }
   ],
   "source": [
    "d8"
   ]
  },
  {
   "cell_type": "code",
   "execution_count": 50,
   "id": "f5446517-3773-44d0-84df-e2a9b7aaa9a6",
   "metadata": {},
   "outputs": [],
   "source": [
    "## For deleting the key and its value\n",
    "del d8['college']"
   ]
  },
  {
   "cell_type": "code",
   "execution_count": 51,
   "id": "dd359d48-d20f-4d59-b700-51f7f1e2bf43",
   "metadata": {},
   "outputs": [
    {
     "data": {
      "text/plain": [
       "{'class timing': {'webdev': '8pm',\n",
       "  'dsa withsystem design ': '9pm',\n",
       "  'data science': '10pm'},\n",
       " 'mentor': ['sudhanshu', 'kriss', 'anurag']}"
      ]
     },
     "execution_count": 51,
     "metadata": {},
     "output_type": "execute_result"
    }
   ],
   "source": [
    "d8"
   ]
  },
  {
   "cell_type": "code",
   "execution_count": 52,
   "id": "83ab4def-8254-486a-bc7d-aeb870282da1",
   "metadata": {},
   "outputs": [
    {
     "data": {
      "text/plain": [
       "dict_keys(['company', 'courses'])"
      ]
     },
     "execution_count": 52,
     "metadata": {},
     "output_type": "execute_result"
    }
   ],
   "source": [
    "## For creating the list of key words\n",
    "d6.keys()"
   ]
  },
  {
   "cell_type": "code",
   "execution_count": 53,
   "id": "b94d5e10-4adf-4a0e-a5d0-25032a4739e0",
   "metadata": {},
   "outputs": [
    {
     "data": {
      "text/plain": [
       "dict_keys(['class timing', 'mentor'])"
      ]
     },
     "execution_count": 53,
     "metadata": {},
     "output_type": "execute_result"
    }
   ],
   "source": [
    "d8.keys()"
   ]
  },
  {
   "cell_type": "code",
   "execution_count": 54,
   "id": "44417f6a-2709-4a69-a0ce-0e6ab7c3bb41",
   "metadata": {},
   "outputs": [
    {
     "data": {
      "text/plain": [
       "['class timing', 'mentor']"
      ]
     },
     "execution_count": 54,
     "metadata": {},
     "output_type": "execute_result"
    }
   ],
   "source": [
    "## for converting into a propper list\n",
    "list(d8.keys())"
   ]
  },
  {
   "cell_type": "code",
   "execution_count": 63,
   "id": "29198c7c-9100-4570-bf0a-f57b519a0dcb",
   "metadata": {},
   "outputs": [
    {
     "data": {
      "text/plain": [
       "dict_values([{'webdev': '8pm', 'dsa withsystem design ': '9pm', 'data science': '10pm'}, ['sudhanshu', 'kriss', 'anurag']])"
      ]
     },
     "execution_count": 63,
     "metadata": {},
     "output_type": "execute_result"
    }
   ],
   "source": [
    "l1 = list(d8.values())\n",
    "d8.values()"
   ]
  },
  {
   "cell_type": "code",
   "execution_count": 60,
   "id": "b604ec7f-5d61-4ee0-af0d-5cf332306474",
   "metadata": {},
   "outputs": [
    {
     "data": {
      "text/plain": [
       "'8pm'"
      ]
     },
     "execution_count": 60,
     "metadata": {},
     "output_type": "execute_result"
    }
   ],
   "source": [
    "l1[0]['webdev']"
   ]
  },
  {
   "cell_type": "code",
   "execution_count": 61,
   "id": "c356f734-c010-430d-9014-0c011d44d341",
   "metadata": {},
   "outputs": [
    {
     "data": {
      "text/plain": [
       "dict_items([('class timing', {'webdev': '8pm', 'dsa withsystem design ': '9pm', 'data science': '10pm'}), ('mentor', ['sudhanshu', 'kriss', 'anurag'])])"
      ]
     },
     "execution_count": 61,
     "metadata": {},
     "output_type": "execute_result"
    }
   ],
   "source": [
    "## For getting a pair of keys and its values\n",
    "d8.items()"
   ]
  },
  {
   "cell_type": "code",
   "execution_count": 62,
   "id": "63b84fb6-d985-4d02-af6c-ba50f9d32f1b",
   "metadata": {},
   "outputs": [
    {
     "data": {
      "text/plain": [
       "[('class timing',\n",
       "  {'webdev': '8pm', 'dsa withsystem design ': '9pm', 'data science': '10pm'}),\n",
       " ('mentor', ['sudhanshu', 'kriss', 'anurag'])]"
      ]
     },
     "execution_count": 62,
     "metadata": {},
     "output_type": "execute_result"
    }
   ],
   "source": [
    "list(d8.items())"
   ]
  },
  {
   "cell_type": "code",
   "execution_count": 64,
   "id": "cdccdba8-a192-4633-bd62-09344bc83a38",
   "metadata": {},
   "outputs": [
    {
     "data": {
      "text/plain": [
       "{'company': 'pwskills',\n",
       " 'courses': ['webdev', 'dsa+system design', 'dsplus machine learning']}"
      ]
     },
     "execution_count": 64,
     "metadata": {},
     "output_type": "execute_result"
    }
   ],
   "source": [
    "d6"
   ]
  },
  {
   "cell_type": "code",
   "execution_count": 73,
   "id": "1b8dc0d9-fb67-4ad7-9e0a-622c2a76305a",
   "metadata": {},
   "outputs": [
    {
     "data": {
      "text/plain": [
       "'pwskills'"
      ]
     },
     "execution_count": 73,
     "metadata": {},
     "output_type": "execute_result"
    }
   ],
   "source": [
    "d6.pop('company')"
   ]
  },
  {
   "cell_type": "code",
   "execution_count": 67,
   "id": "911ddbf5-5b1f-4ffb-8e81-f1be91a57cec",
   "metadata": {},
   "outputs": [
    {
     "data": {
      "text/plain": [
       "{'courses': ['webdev', 'dsa+system design', 'dsplus machine learning']}"
      ]
     },
     "execution_count": 67,
     "metadata": {},
     "output_type": "execute_result"
    }
   ],
   "source": [
    "d6"
   ]
  },
  {
   "cell_type": "code",
   "execution_count": 68,
   "id": "2ee71033-0193-4dc2-bf22-45634823c8e9",
   "metadata": {},
   "outputs": [],
   "source": [
    "d6['name'] = 'shaurya'"
   ]
  },
  {
   "cell_type": "code",
   "execution_count": 69,
   "id": "7e5fecb8-203e-46af-9e21-6ec3ea586cd9",
   "metadata": {},
   "outputs": [],
   "source": [
    "d6['profession'] = 'data scientist'"
   ]
  },
  {
   "cell_type": "code",
   "execution_count": 75,
   "id": "28bfb6d3-b9ed-40fa-844b-90f787abc72c",
   "metadata": {},
   "outputs": [],
   "source": [
    "d6['company'] = \"pwskills\""
   ]
  },
  {
   "cell_type": "code",
   "execution_count": 76,
   "id": "6c91e71d-649d-47d5-904c-fdc501168cb1",
   "metadata": {},
   "outputs": [
    {
     "data": {
      "text/plain": [
       "{'courses': ['webdev', 'dsa+system design', 'dsplus machine learning'],\n",
       " 'name': 'shaurya',\n",
       " 'profession': 'data scientist',\n",
       " 'company': 'pwskills'}"
      ]
     },
     "execution_count": 76,
     "metadata": {},
     "output_type": "execute_result"
    }
   ],
   "source": [
    "d6"
   ]
  },
  {
   "cell_type": "code",
   "execution_count": 79,
   "id": "1b9480c6-dd49-4f3a-88e4-3db310a01806",
   "metadata": {},
   "outputs": [
    {
     "ename": "TypeError",
     "evalue": "pop expected at least 1 argument, got 0",
     "output_type": "error",
     "traceback": [
      "\u001b[0;31m---------------------------------------------------------------------------\u001b[0m",
      "\u001b[0;31mTypeError\u001b[0m                                 Traceback (most recent call last)",
      "Cell \u001b[0;32mIn[79], line 1\u001b[0m\n\u001b[0;32m----> 1\u001b[0m \u001b[43md6\u001b[49m\u001b[38;5;241;43m.\u001b[39;49m\u001b[43mpop\u001b[49m\u001b[43m(\u001b[49m\u001b[43m)\u001b[49m \u001b[38;5;66;03m##yahan par akhiri value ko output karke nhi dega\u001b[39;00m\n",
      "\u001b[0;31mTypeError\u001b[0m: pop expected at least 1 argument, got 0"
     ]
    }
   ],
   "source": [
    "d6.pop() ##yahan par akhiri value ko output karke nhi dega"
   ]
  },
  {
   "cell_type": "code",
   "execution_count": null,
   "id": "c2492767-b70c-4529-a876-ad6411aa5395",
   "metadata": {},
   "outputs": [],
   "source": []
  }
 ],
 "metadata": {
  "kernelspec": {
   "display_name": "Python 3 (ipykernel)",
   "language": "python",
   "name": "python3"
  },
  "language_info": {
   "codemirror_mode": {
    "name": "ipython",
    "version": 3
   },
   "file_extension": ".py",
   "mimetype": "text/x-python",
   "name": "python",
   "nbconvert_exporter": "python",
   "pygments_lexer": "ipython3",
   "version": "3.10.8"
  }
 },
 "nbformat": 4,
 "nbformat_minor": 5
}
